{
 "cells": [
  {
   "cell_type": "code",
   "execution_count": 20,
   "metadata": {},
   "outputs": [
    {
     "name": "stdout",
     "output_type": "stream",
     "text": [
      "Downloading URL https://mast.stsci.edu/api/v0.1/Download/file?uri=mast:HLSP/everest/v2/c05/211300000/15836/hlsp_everest_k2_llc_211315836-c05_kepler_v2.0_dvs-0.png to ./mastDownload\\HLSP\\hlsp_everest_k2_llc_211315836-c05_kepler_v2.0_lc\\hlsp_everest_k2_llc_211315836-c05_kepler_v2.0_dvs-0.png ... [Done]\n",
      "Downloading URL https://mast.stsci.edu/api/v0.1/Download/file?uri=mast:HLSP/everest/v2/c05/211300000/15836/hlsp_everest_k2_llc_211315836-c05_kepler_v2.0_dvs-1.png to ./mastDownload\\HLSP\\hlsp_everest_k2_llc_211315836-c05_kepler_v2.0_lc\\hlsp_everest_k2_llc_211315836-c05_kepler_v2.0_dvs-1.png ... [Done]\n",
      "Downloading URL https://mast.stsci.edu/api/v0.1/Download/file?uri=mast:HLSP/everest/v2/c18/211300000/15836/hlsp_everest_k2_llc_211315836-c18_kepler_v2.0_dvs-0.png to ./mastDownload\\HLSP\\hlsp_everest_k2_llc_211315836-c18_kepler_v2.0_lc\\hlsp_everest_k2_llc_211315836-c18_kepler_v2.0_dvs-0.png ... [Done]\n",
      "Downloading URL https://mast.stsci.edu/api/v0.1/Download/file?uri=mast:HLSP/everest/v2/c18/211300000/15836/hlsp_everest_k2_llc_211315836-c18_kepler_v2.0_dvs-1.png to ./mastDownload\\HLSP\\hlsp_everest_k2_llc_211315836-c18_kepler_v2.0_lc\\hlsp_everest_k2_llc_211315836-c18_kepler_v2.0_dvs-1.png ... [Done]\n"
     ]
    }
   ],
   "source": [
    "from astroquery.mast import Observations\n",
    "\n",
    "postcard_obs = Observations.query_criteria(provenance_name=\"EVEREST\",\n",
    "                                           target_name=\"ktwo211315836\", \n",
    "                                           obs_collection=\"HLSP\")\n",
    "\n",
    "\n",
    "\n",
    "\n",
    "#print(postcard_obs[\"dataURL\"])\n",
    "#print(Observations.get_product_list(postcard_obs)[\"productFilename\"])\n",
    "if len(postcard_obs) > 0:\n",
    "    product_list = Observations.get_product_list(postcard_obs)\n",
    "    extension = [\"_dvs-0.png\", \"_dvs-1.png\"]\n",
    "    results = Observations.download_products(product_list, extension=extension,\n",
    "                                             )\n"
   ]
  },
  {
   "cell_type": "code",
   "execution_count": 2,
   "metadata": {},
   "outputs": [
    {
     "name": "stdout",
     "output_type": "stream",
     "text": [
      "EV-LAC\n"
     ]
    }
   ],
   "source": [
    "#pd.options.display.max_rows = 4000\n",
    "from astroquery.mast import Observations\n",
    "\n",
    "obs_table = Observations.query_criteria(dataproduct_type=[\"image\"],\n",
    "                                         proposal_pi=\"Osten*\",\n",
    "                                         s_dec=[43.5,45.5])\n",
    "\n",
    "print(obs_table[0]['target_name'])"
   ]
  },
  {
   "cell_type": "code",
   "execution_count": 27,
   "metadata": {},
   "outputs": [
    {
     "name": "stdout",
     "output_type": "stream",
     "text": [
      "dataproduct_type calib_level obs_collection ...    obsid       objID   \n",
      "---------------- ----------- -------------- ... ----------- -----------\n",
      "      timeseries           2             K2 ...  9500622935  9500985488\n",
      "      timeseries           4           HLSP ... 18001772357 18002513044\n",
      "      timeseries           4           HLSP ... 18002269823 18003044832\n",
      "      timeseries           4           HLSP ... 18003980397 18004757362\n"
     ]
    }
   ],
   "source": [
    "postcard_obs = Observations.query_criteria(\n",
    "                                           target_name=\"ktwo202059070\", \n",
    "                                           )\n",
    "\n",
    "print(postcard_obs)"
   ]
  },
  {
   "cell_type": "code",
   "execution_count": 21,
   "metadata": {},
   "outputs": [
    {
     "name": "stdout",
     "output_type": "stream",
     "text": [
      "  CADN         FLUX        ...        CBV06               BKG        \n",
      "------- ------------------ ... ------------------- ------------------\n",
      "87434.0 1505.6715639582544 ... -0.6669836799344303 354.52008056640625\n",
      "87435.0 1480.2286363659368 ... -0.6601330568916208  354.1226501464844\n",
      "87436.0  1481.747638110217 ... -0.6533101524821894  354.6477355957031\n",
      "87437.0 1484.1464249632263 ... -0.6465149315190366  354.1248474121094\n",
      "87438.0  1488.762476084521 ... -0.6397473588150631  354.3080139160156\n",
      "87439.0 1483.7841852346028 ... -0.6330073991831693 353.69390869140625\n",
      "87440.0 1476.9178517781256 ... -0.6262950174362558  354.3306884765625\n",
      "87441.0  1483.748859131505 ... -0.6196101783872233 353.84637451171875\n",
      "87442.0 1488.0941974145244 ... -0.6129528468489722  354.0843505859375\n",
      "87443.0  1487.706418034184 ... -0.6063229876344033 353.59454345703125\n",
      "    ...                ... ...                 ...                ...\n",
      "91176.0 1574.9384359839605 ...   -9.37924754593464  835.9583129882812\n",
      "91177.0 1580.9107160015265 ...  -9.408217203824705  838.3038940429688\n",
      "91178.0 1581.1826267206343 ...    -9.4371056198569   837.739013671875\n",
      "91179.0 1573.2579307380365 ...   -9.46591239474245   838.185791015625\n",
      "91180.0 1576.4549643864157 ...  -9.494637129192586  838.6464233398438\n",
      "91181.0 1578.3268167787464 ...  -9.523279423918522  839.4842529296875\n",
      "91182.0 1583.7119393014582 ...  -9.551838879631479      839.548828125\n",
      "91183.0 1574.5354004773544 ...  -9.580315097042707  839.8729248046875\n",
      "91184.0 1579.1094286601292 ...    -9.6087076768634  840.8501586914062\n",
      "91185.0 1579.4259530828567 ...   -9.63701621980477  841.3661499023438\n",
      "91186.0 1581.9250405282946 ...  -9.665240326578068   841.763427734375\n",
      "Length = 3753 rows\n"
     ]
    }
   ],
   "source": [
    "from astroquery.mast import Observations\n",
    "from astropy.io import fits\n",
    "from astropy.table import Table\n",
    "\n",
    "with fits.open('mastDownload/HLSP/hlsp_everest_k2_llc_202059070-c00_kepler_v2.0_lc/hlsp_everest_k2_llc_202059070-c00_kepler_v2.0_lc.fits') as hdu:\n",
    "    asn_table = Table(hdu[1].data)\n",
    "\n",
    "print(asn_table)"
   ]
  },
  {
   "cell_type": "code",
   "execution_count": null,
   "metadata": {},
   "outputs": [],
   "source": []
  }
 ],
 "metadata": {
  "kernelspec": {
   "display_name": "Python 3",
   "language": "python",
   "name": "python3"
  },
  "language_info": {
   "codemirror_mode": {
    "name": "ipython",
    "version": 3
   },
   "file_extension": ".py",
   "mimetype": "text/x-python",
   "name": "python",
   "nbconvert_exporter": "python",
   "pygments_lexer": "ipython3",
   "version": "3.9.1"
  }
 },
 "nbformat": 4,
 "nbformat_minor": 4
}
