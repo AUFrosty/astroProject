{
 "cells": [
  {
   "cell_type": "code",
   "execution_count": 43,
   "metadata": {},
   "outputs": [
    {
     "name": "stdout",
     "output_type": "stream",
     "text": [
      "dataproduct_type calib_level obs_collection obs_id ... intentType obsid objID\n",
      "---------------- ----------- -------------- ------ ... ---------- ----- -----\n"
     ]
    }
   ],
   "source": [
    "from astroquery.mast import Observations\n",
    "\n",
    "postcard_obs = Observations.query_criteria(provenance_name=\"EVEREST\",\n",
    "                                           target_name=\"/c00/202000000/59070/\",\n",
    "                                           obs_collection=\"HLSP\")\n",
    "print(postcard_obs)\n",
    "if len(postcard_obs) > 0:\n",
    "    product_list = Observations.get_product_list(postcard_obs)\n",
    "    extension = [\"pc.fits\", \"bkg.fits\"]\n",
    "    results = Observations.download_products(product_list, extension=extension,\n",
    "                                             download_dir=self.postcard_path)\n"
   ]
  },
  {
   "cell_type": "code",
   "execution_count": null,
   "metadata": {},
   "outputs": [],
   "source": []
  }
 ],
 "metadata": {
  "kernelspec": {
   "display_name": "Python 3",
   "language": "python",
   "name": "python3"
  },
  "language_info": {
   "codemirror_mode": {
    "name": "ipython",
    "version": 3
   },
   "file_extension": ".py",
   "mimetype": "text/x-python",
   "name": "python",
   "nbconvert_exporter": "python",
   "pygments_lexer": "ipython3",
   "version": "3.7.6"
  }
 },
 "nbformat": 4,
 "nbformat_minor": 4
}
